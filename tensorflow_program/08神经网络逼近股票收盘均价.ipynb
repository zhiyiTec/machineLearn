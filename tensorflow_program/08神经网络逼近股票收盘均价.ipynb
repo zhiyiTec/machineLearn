{
 "cells": [
  {
   "cell_type": "code",
   "execution_count": 2,
   "metadata": {},
   "outputs": [
    {
     "name": "stdout",
     "output_type": "stream",
     "text": [
      "日期： [ 1.  2.  3.  4.  5.  6.  7.  8.  9. 10. 11. 12. 13. 14. 15.]\n",
      "[[0.]\n",
      " [0.]\n",
      " [0.]\n",
      " [0.]\n",
      " [0.]\n",
      " [0.]\n",
      " [0.]\n",
      " [0.]\n",
      " [0.]\n",
      " [0.]\n",
      " [0.]\n",
      " [0.]\n",
      " [0.]\n",
      " [0.]\n",
      " [0.]]\n"
     ]
    },
    {
     "data": {
      "image/png": "[encoded data removed]",
      "text/plain": [
       "<Figure size 432x288 with 1 Axes>"
      ]
     },
     "metadata": {
      "needs_background": "light"
     },
     "output_type": "display_data"
    }
   ],
   "source": [
    "import tensorflow.compat.v1 as tf\n",
    "import numpy as np\n",
    "import matplotlib.pyplot as plt\n",
    "# 保证sess.run()能够正常运行\n",
    "tf.disable_eager_execution()\n",
    "date=np.linspace(1,15,15)#1-15天的日期\n",
    "endPrice=np.array([2511.90,2538.26,2510.68,2591.66,2732.98,2701.69,2701.29,2678.67,2726.50,2681.50,2739.17,2715.07,2823.58,2864.90,2919.08])\n",
    "beginPrice=np.array([2438.71,2500.88,2534.95,2512.52,2594.04,2743.26,2697.47,2695.24,2678.23,2722.13,2674.93,2744.13,2717.46,2832.73,2877.40])\n",
    "print(\"日期：\",date)\n",
    "plt.figure()# 定义一个绘图\n",
    "for i in range(0,15):\n",
    "    # 1.折线柱状图\n",
    "    dateOne=np.zeros([2])# 当天的日期\n",
    "    dateOne[0]=i\n",
    "    dateOne[1]=i\n",
    "    priceOne=np.zeros([2]) #当天的开盘价以及收盘价\n",
    "    priceOne[0]=beginPrice[i]# 当天的开盘价\n",
    "    priceOne[1]=endPrice[i]# 当天的收盘价\n",
    "    \n",
    "    if endPrice[i]>beginPrice[i]:#判断当天的开盘价是否小于当天的收盘价\n",
    "        plt.plot(dateOne,priceOne,'red',lw=8)\n",
    "    else:\n",
    "         plt.plot(dateOne,priceOne,'green',lw=8)\n",
    "# A\n",
    "dateNormal=np.zeros([15,1])\n",
    "priceNormal=np.zeros([15,1])\n",
    "for i in range(0,15):\n",
    "    dateNormal=i/14.0;\n",
    "    priceNormal=endPrice[i]/3000.0;\n",
    "x=tf.placeholder(tf.float32,[None,1])#表示数据类型为浮点型，N行1列\n",
    "y=tf.placeholder(tf.float32,[None,1])\n",
    "# B\n",
    "w1=tf.Variable(tf.random_uniform([1,10],0,1))\n",
    "b1=tf.Variable(tf.zeros([1,10]))\n",
    "wb1=tf.matmul(x,w1)+b1\n",
    "layer1=tf.nn.relu(web1) #激励函数\n",
    "# C\n",
    "w2=f.Variable(tf.random_uniform([10,1],0,1))\n",
    "b2=tf.Variable(tf.zeros([15,1]))\n",
    "wb2=tf.matmul(layer1,w2)+b2\n",
    "layer2=tf.nn.relu(web2)\n",
    "loss=tf.reduce_mean(tf.square(y-layer2))#y：真实 layer2：计算值\n",
    "train_s-"
   ]
  },
  {
   "cell_type": "code",
   "execution_count": null,
   "metadata": {},
   "outputs": [],
   "source": []
  },
  {
   "cell_type": "code",
   "execution_count": null,
   "metadata": {},
   "outputs": [],
   "source": []
  }
 ],
 "metadata": {
  "kernelspec": {
   "display_name": "Python 3",
   "language": "python",
   "name": "python3"
  },
  "language_info": {
   "codemirror_mode": {
    "name": "ipython",
    "version": 3
   },
   "file_extension": ".py",
   "mimetype": "text/x-python",
   "name": "python",
   "nbconvert_exporter": "python",
   "pygments_lexer": "ipython3",
   "version": "3.6.12"
  }
 },
 "nbformat": 4,
 "nbformat_minor": 4
}
