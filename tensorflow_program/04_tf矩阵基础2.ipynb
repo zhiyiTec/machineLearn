{
 "cells": [
  {
   "cell_type": "code",
   "execution_count": 4,
   "metadata": {},
   "outputs": [
    {
     "name": "stdout",
     "output_type": "stream",
     "text": [
      "加法： [[8 8]\n",
      " [8 8]]\n",
      "乘法： [[24]]\n",
      "[array([[8, 8],\n",
      "       [8, 8]]), array([[24]])]\n"
     ]
    }
   ],
   "source": [
    "import tensorflow as tf\n",
    "# 保证sess.run()能够正常运行\n",
    "tf.compat.v1.disable_eager_execution()\n",
    "data1=tf.constant([[6,6]])\n",
    "data2=tf.constant([[2],\n",
    "                   [2]])\n",
    "data3=tf.constant([[3,3]])\n",
    "data4=tf.constant([[1,2],\n",
    "                   [3,4],\n",
    "                   [5,6]])\n",
    "matMul=tf.matmul(data1,data2)# 矩阵相乘\n",
    "matAdd=tf.add(data1,data2)# 矩阵相加\n",
    "with tf.compat.v1.Session() as sess:\n",
    "    print(\"加法：\",sess.run(matAdd))\n",
    "    print(\"乘法：\",sess.run(matMul))\n",
    "    print(sess.run([matAdd,matMul]))"
   ]
  },
  {
   "cell_type": "code",
   "execution_count": null,
   "metadata": {},
   "outputs": [],
   "source": []
  }
 ],
 "metadata": {
  "kernelspec": {
   "display_name": "Python 3",
   "language": "python",
   "name": "python3"
  },
  "language_info": {
   "codemirror_mode": {
    "name": "ipython",
    "version": 3
   },
   "file_extension": ".py",
   "mimetype": "text/x-python",
   "name": "python",
   "nbconvert_exporter": "python",
   "pygments_lexer": "ipython3",
   "version": "3.6.12"
  }
 },
 "nbformat": 4,
 "nbformat_minor": 4
}
