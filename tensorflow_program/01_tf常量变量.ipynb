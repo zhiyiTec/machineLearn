{
 "cells": [
  {
   "cell_type": "code",
   "execution_count": 5,
   "metadata": {},
   "outputs": [
    {
     "name": "stdout",
     "output_type": "stream",
     "text": [
      "Tensor(\"Const_2:0\", shape=(), dtype=float32)\n",
      "<tf.Variable 'var_2:0' shape=() dtype=int32>\n",
      "2.5\n",
      "10\n"
     ]
    }
   ],
   "source": [
    "import tensorflow as tf\n",
    "tf.compat.v1.disable_eager_execution()\n",
    "data1=tf.constant(2.5)# 常量\n",
    "data2=tf.Variable(10,name='var')# 变量，变量名为data2\n",
    "print(data1)\n",
    "print(data2)\n",
    "sess=tf.compat.v1.Session()\n",
    "print(sess.run(data1))\n",
    "init=tf.compat.v1.global_variables_initializer()# 初始化变量\n",
    "sess.run(init)\n",
    "print(sess.run(data2))\n",
    "\n"
   ]
  },
  {
   "cell_type": "code",
   "execution_count": null,
   "metadata": {},
   "outputs": [],
   "source": []
  }
 ],
 "metadata": {
  "kernelspec": {
   "display_name": "Python 3",
   "language": "python",
   "name": "python3"
  },
  "language_info": {
   "codemirror_mode": {
    "name": "ipython",
    "version": 3
   },
   "file_extension": ".py",
   "mimetype": "text/x-python",
   "name": "python",
   "nbconvert_exporter": "python",
   "pygments_lexer": "ipython3",
   "version": "3.6.12"
  }
 },
 "nbformat": 4,
 "nbformat_minor": 4
}
