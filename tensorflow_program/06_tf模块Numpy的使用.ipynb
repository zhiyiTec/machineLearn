{
 "cells": [
  {
   "cell_type": "code",
   "execution_count": 9,
   "metadata": {},
   "outputs": [
    {
     "name": "stdout",
     "output_type": "stream",
     "text": [
      "[1 2 3 4 5]\n",
      "[[1 2]\n",
      " [3 4]]\n",
      "data1维度: (5,)\n",
      "data2维度: (2, 2)\n",
      "修改之后的2矩阵： [[1 2]\n",
      " [5 4]]\n",
      "矩阵2第二行第2列的值: 4\n",
      "data3*2: [[2. 2. 2.]\n",
      " [2. 2. 2.]]\n"
     ]
    }
   ],
   "source": [
    "import numpy as np\n",
    "data1=np.array([1,2,3,4,5])\n",
    "print(data1)\n",
    "data2=np.array([[1,2],[3,4]])\n",
    "print(data2)\n",
    "print(\"data1维度:\",data1.shape)\n",
    "print(\"data2维度:\",data2.shape)\n",
    "# 矩阵的修改与查找\n",
    "data2[1,0]=5 #将矩阵2的第二行第一列的值修改为5\n",
    "print(\"修改之后的2矩阵：\",data2)\n",
    "print(\"矩阵2第二行第2列的值:\",data2[1,1])\n",
    "# 基本运算\n",
    "data3=np.ones([2,3])\n",
    "print(\"data3*2:\",data3*2)\n"
   ]
  },
  {
   "cell_type": "code",
   "execution_count": null,
   "metadata": {},
   "outputs": [],
   "source": []
  }
 ],
 "metadata": {
  "kernelspec": {
   "display_name": "Python 3",
   "language": "python",
   "name": "python3"
  },
  "language_info": {
   "codemirror_mode": {
    "name": "ipython",
    "version": 3
   },
   "file_extension": ".py",
   "mimetype": "text/x-python",
   "name": "python",
   "nbconvert_exporter": "python",
   "pygments_lexer": "ipython3",
   "version": "3.6.12"
  }
 },
 "nbformat": 4,
 "nbformat_minor": 4
}
