{
 "cells": [
  {
   "cell_type": "code",
   "execution_count": 7,
   "metadata": {},
   "outputs": [
    {
     "name": "stdout",
     "output_type": "stream",
     "text": [
      "全0矩阵： [[0. 0. 0.]\n",
      " [0. 0. 0.]]\n",
      "全1矩阵： [[1. 1.]\n",
      " [1. 1.]\n",
      " [1. 1.]]\n",
      "填充矩阵： [[15 15 15]\n",
      " [15 15 15]]\n"
     ]
    }
   ],
   "source": [
    "import tensorflow as tf\n",
    "# 保证sess.run()能够正常运行\n",
    "tf.compat.v1.disable_eager_execution()\n",
    "mat0=tf.constant([[0,0,0],[0,0,0]])# 定义一个2*3的空矩阵\n",
    "mat1=tf.zeros([2,3])# 定义一个2*3的空矩阵\n",
    "mat2=tf.ones([3,2])#定义一个3*2的全1矩阵\n",
    "mat3=tf.fill([2,3],15)# 定义一个2*3的填充矩阵，填充内容为15\n",
    "with tf.compat.v1.Session() as sess:\n",
    "    print(\"全0矩阵：\",sess.run(mat1))\n",
    "    print(\"全1矩阵：\",sess.run(mat2))\n",
    "    print(\"填充矩阵：\",sess.run(mat3))"
   ]
  },
  {
   "cell_type": "code",
   "execution_count": 17,
   "metadata": {},
   "outputs": [
    {
     "name": "stdout",
     "output_type": "stream",
     "text": [
      "mat2 [[0]\n",
      " [0]\n",
      " [0]]\n",
      "均分矩阵mat3: [0.        0.2       0.4       0.6       0.8       1.        1.2\n",
      " 1.4       1.6       1.8000001 2.       ]\n",
      "随机矩阵mat4: [[-0.55731857 -0.117854   -0.7026707 ]\n",
      " [-0.38001597  0.73309827  0.99627984]]\n"
     ]
    }
   ],
   "source": [
    "import tensorflow as tf\n",
    "# 保证sess.run()能够正常运行\n",
    "tf.compat.v1.disable_eager_execution()\n",
    "mat1=tf.constant([[2],[3],[4]])\n",
    "mat2=tf.zeros_like(mat1)# 定义一个和mat1维度相同的全零矩阵\n",
    "mat3=tf.linspace(0.0,2.0,11)#定义一个1*10 从1到2被均分为10份的矩阵\n",
    "mat4=tf.compat.v1.random_uniform([2,3],-1,2)# 定义一个2*3的矩阵，矩阵内容为-1,2所产生的随机数\n",
    "with tf.compat.v1.Session() as sess:\n",
    "    print(\"mat2\",sess.run(mat2))\n",
    "    print(\"均分矩阵mat3:\",sess.run(mat3))\n",
    "    print(\"随机矩阵mat4:\",sess.run(mat4))"
   ]
  },
  {
   "cell_type": "code",
   "execution_count": null,
   "metadata": {},
   "outputs": [],
   "source": []
  }
 ],
 "metadata": {
  "kernelspec": {
   "display_name": "Python 3",
   "language": "python",
   "name": "python3"
  },
  "language_info": {
   "codemirror_mode": {
    "name": "ipython",
    "version": 3
   },
   "file_extension": ".py",
   "mimetype": "text/x-python",
   "name": "python",
   "nbconvert_exporter": "python",
   "pygments_lexer": "ipython3",
   "version": "3.6.12"
  }
 },
 "nbformat": 4,
 "nbformat_minor": 4
}
