{
 "cells": [
  {
   "cell_type": "code",
   "execution_count": 5,
   "metadata": {},
   "outputs": [
    {
     "name": "stdout",
     "output_type": "stream",
     "text": [
      "8\n",
      "12\n",
      "4\n",
      "3.0\n",
      "end!\n"
     ]
    }
   ],
   "source": [
    "import tensorflow as tf\n",
    "# 保证sess.run()能够正常运行\n",
    "tf.compat.v1.disable_eager_execution()\n",
    "data1=tf.constant(6)\n",
    "data2=tf.constant(2)\n",
    "dataAdd=tf.add(data1,data2)# 加法\n",
    "dataMul=tf.multiply(data1,data2)# 乘法\n",
    "dataSub=tf.subtract(data1,data2)# 减法\n",
    "DataDiv=tf.divide(data1,data2)# 除法\n",
    "with tf.compat.v1.Session() as sess:\n",
    "    print(sess.run(dataAdd))\n",
    "    print(sess.run(dataMul))\n",
    "    print(sess.run(dataSub))\n",
    "    print(sess.run(DataDiv))\n",
    "print(\"end!\")"
   ]
  },
  {
   "cell_type": "code",
   "execution_count": 11,
   "metadata": {},
   "outputs": [
    {
     "name": "stdout",
     "output_type": "stream",
     "text": [
      "8\n",
      "12\n",
      "4\n",
      "3.0\n",
      "datacopy: 8\n",
      "datacopy_evel 14\n",
      "get_default_session 20\n",
      "end!\n"
     ]
    }
   ],
   "source": [
    "import tensorflow as tf\n",
    "# 保证sess.run()能够正常运行\n",
    "tf.compat.v1.disable_eager_execution()\n",
    "data1=tf.constant(6)\n",
    "data2=tf.Variable(2,name='var')# 变量，变量名为data2\n",
    "dataAdd=tf.add(data1,data2)# 加法\n",
    "dataMul=tf.multiply(data1,data2)# 乘法\n",
    "dataSub=tf.subtract(data1,data2)# 减法\n",
    "DataDiv=tf.divide(data1,data2)# 除法\n",
    "datacopy=tf.compat.v1.assign(data2,dataAdd) # 相当于将dataAdd的值赋予data2\n",
    "init=tf.compat.v1.global_variables_initializer()# 初始化变量\n",
    "with tf.compat.v1.Session() as sess:\n",
    "    sess.run(init)#必须先执行init\n",
    "    print(sess.run(dataAdd))\n",
    "    print(sess.run(dataMul))\n",
    "    print(sess.run(dataSub))\n",
    "    print(sess.run(DataDiv))\n",
    "    print(\"datacopy:\",sess.run(datacopy))\n",
    "    print(\"datacopy_evel\",datacopy.eval())# 在执行这句话时data2已经是8了，datacopy.evel()就是相当于sess.run(dataAdd)操作，即执行8+6=14,并且把值赋给data2\n",
    "    print(\"get_default_session\",tf.compat.v1.get_default_session().run(datacopy))#与data.evel()操作一样，14+6=20\n",
    "print(\"end!\")"
   ]
  },
  {
   "cell_type": "code",
   "execution_count": null,
   "metadata": {},
   "outputs": [],
   "source": []
  }
 ],
 "metadata": {
  "kernelspec": {
   "display_name": "Python 3",
   "language": "python",
   "name": "python3"
  },
  "language_info": {
   "codemirror_mode": {
    "name": "ipython",
    "version": 3
   },
   "file_extension": ".py",
   "mimetype": "text/x-python",
   "name": "python",
   "nbconvert_exporter": "python",
   "pygments_lexer": "ipython3",
   "version": "3.6.12"
  }
 },
 "nbformat": 4,
 "nbformat_minor": 4
}
