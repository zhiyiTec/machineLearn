{
 "cells": [
  {
   "cell_type": "code",
   "execution_count": 1,
   "metadata": {},
   "outputs": [
    {
     "name": "stdout",
     "output_type": "stream",
     "text": [
      "本次执行检索到 11 张图像\n",
      "\n",
      "16.png\n",
      "17.png\n",
      "18.png\n",
      "19.png\n",
      "20.png\n",
      "21.png\n",
      "22.png\n",
      "23.png\n",
      "24.png\n",
      "25.png\n",
      "imageTest.png\n"
     ]
    }
   ],
   "source": [
    "import os\n",
    "import cv2\n",
    "\n",
    "\n",
    "def getFileList(dir, Filelist, ext=None):\n",
    "    \"\"\"\n",
    "    获取文件夹及其子文件夹中文件列表\n",
    "    输入 dir：文件夹根目录\n",
    "    输入 ext: 扩展名\n",
    "    返回： 文件路径列表\n",
    "    \"\"\"\n",
    "    newDir = dir\n",
    "    if os.path.isfile(dir):\n",
    "        if ext is None:\n",
    "            Filelist.append(dir)\n",
    "        else:\n",
    "            if ext in dir[-3:]:\n",
    "                Filelist.append(dir)\n",
    "\n",
    "    elif os.path.isdir(dir):\n",
    "        for s in os.listdir(dir):\n",
    "            newDir = os.path.join(dir, s)\n",
    "            getFileList(newDir, Filelist, ext)\n",
    "\n",
    "    return Filelist\n",
    "\n",
    "\n",
    "org_img_folder = 'C:\\\\Users\\\\ADMIN\\\\Desktop\\\\tensorflow_program'\n",
    "\n",
    "# 检索文件\n",
    "imglist = getFileList(org_img_folder, [], 'png')\n",
    "print('本次执行检索到 ' + str(len(imglist)) + ' 张图像\\n')\n",
    "\n",
    "for imgpath in imglist:\n",
    "    imgname = os.path.splitext(os.path.basename(imgpath))[0]\n",
    "    imgname+=\".png\"\n",
    "    print(imgname)\n",
    "    img=cv2.imread(imgname,1)\n",
    "    cv2.imshow(imgname,img)\n",
    "\n"
   ]
  },
  {
   "cell_type": "code",
   "execution_count": 20,
   "metadata": {},
   "outputs": [
    {
     "data": {
      "text/plain": [
       "True"
      ]
     },
     "execution_count": 20,
     "metadata": {},
     "output_type": "execute_result"
    }
   ],
   "source": [
    "import cv2\n",
    "img=cv2.imread(\"image0.jpg\",1)\n",
    "cv2.imwrite(\"image1.jpg\",img)"
   ]
  },
  {
   "cell_type": "code",
   "execution_count": null,
   "metadata": {},
   "outputs": [],
   "source": []
  }
 ],
 "metadata": {
  "kernelspec": {
   "display_name": "Python 3",
   "language": "python",
   "name": "python3"
  },
  "language_info": {
   "codemirror_mode": {
    "name": "ipython",
    "version": 3
   },
   "file_extension": ".py",
   "mimetype": "text/x-python",
   "name": "python",
   "nbconvert_exporter": "python",
   "pygments_lexer": "ipython3",
   "version": "3.6.12"
  }
 },
 "nbformat": 4,
 "nbformat_minor": 4
}
