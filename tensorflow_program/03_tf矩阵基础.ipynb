{
 "cells": [
  {
   "cell_type": "code",
   "execution_count": 3,
   "metadata": {},
   "outputs": [
    {
     "name": "stdout",
     "output_type": "stream",
     "text": [
      "8.0\n",
      "end!\n"
     ]
    }
   ],
   "source": [
    "import tensorflow as tf\n",
    "# 保证sess.run()能够正常运行\n",
    "tf.compat.v1.disable_eager_execution()\n",
    "data1=tf.compat.v1.placeholder(tf.float32)\n",
    "data2=tf.compat.v1.placeholder(tf.float32)\n",
    "dataAdd=tf.add(data1,data2)\n",
    "with tf.compat.v1.Session() as sess:\n",
    "    print(sess.run(dataAdd,feed_dict={data1:6,data2:2}))\n",
    "print(\"end!\")"
   ]
  },
  {
   "cell_type": "code",
   "execution_count": 10,
   "metadata": {},
   "outputs": [
    {
     "name": "stdout",
     "output_type": "stream",
     "text": [
      "data4维度： (3, 2)\n",
      "data4内容： [[1 2]\n",
      " [3 4]\n",
      " [5 6]]\n",
      "data4第一行： [1 2]\n",
      "data4第一列： [1 3 5]\n",
      "data4第一行第一列： 1\n"
     ]
    }
   ],
   "source": [
    "import tensorflow as tf\n",
    "# 保证sess.run()能够正常运行\n",
    "tf.compat.v1.disable_eager_execution()\n",
    "data1=tf.constant([[6,6]])\n",
    "data2=tf.constant([[2],\n",
    "                   [2]])\n",
    "data3=tf.constant([[3,3]])\n",
    "data4=tf.constant([[1,2],\n",
    "                   [3,4],\n",
    "                   [5,6]])\n",
    "print(\"data4维度：\",data4.shape) #打印矩阵维度\n",
    "with tf.compat.v1.Session() as sess:\n",
    "    print(\"data4内容：\",sess.run(data4))\n",
    "    print(\"data4第一行：\",sess.run(data4[0]))# 第一行的数据\n",
    "    print(\"data4第一列：\",sess.run(data4[:,0]))# 第一列的数据\n",
    "    print(\"data4第一行第一列：\",sess.run(data4[0,0]))# 第一行第一列的数据"
   ]
  },
  {
   "cell_type": "code",
   "execution_count": null,
   "metadata": {},
   "outputs": [],
   "source": []
  }
 ],
 "metadata": {
  "kernelspec": {
   "display_name": "Python 3",
   "language": "python",
   "name": "python3"
  },
  "language_info": {
   "codemirror_mode": {
    "name": "ipython",
    "version": 3
   },
   "file_extension": ".py",
   "mimetype": "text/x-python",
   "name": "python",
   "nbconvert_exporter": "python",
   "pygments_lexer": "ipython3",
   "version": "3.6.12"
  }
 },
 "nbformat": 4,
 "nbformat_minor": 4
}
